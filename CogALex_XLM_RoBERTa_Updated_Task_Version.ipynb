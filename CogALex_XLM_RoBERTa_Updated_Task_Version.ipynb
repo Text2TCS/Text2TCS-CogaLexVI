{
 "cells": [
  {
   "cell_type": "markdown",
   "metadata": {
    "colab_type": "text",
    "id": "view-in-github"
   },
   "source": [
    "<a href=\"https://colab.research.google.com/github/Text2TCS/Transrelation/blob/master/CogALex_XLM_RoBERTa_Updated_Task_Version.ipynb\" target=\"_parent\"><img src=\"https://colab.research.google.com/assets/colab-badge.svg\" alt=\"Open In Colab\"/></a>"
   ]
  },
  {
   "cell_type": "markdown",
   "metadata": {
    "id": "WF-aoH7jZLTn"
   },
   "source": [
    "# Libraries"
   ]
  },
  {
   "cell_type": "code",
   "execution_count": 2,
   "metadata": {
    "colab": {
     "base_uri": "https://localhost:8080/"
    },
    "id": "3w3ZNBmItp_p",
    "outputId": "6b629027-783d-4ac3-dab9-97a86114f71a"
   },
   "outputs": [
    {
     "name": "stdout",
     "output_type": "stream",
     "text": [
      "Collecting transformers\n",
      "\u001b[?25l  Downloading https://files.pythonhosted.org/packages/50/0c/7d5950fcd80b029be0a8891727ba21e0cd27692c407c51261c3c921f6da3/transformers-4.1.1-py3-none-any.whl (1.5MB)\n",
      "\u001b[K     |████████████████████████████████| 1.5MB 7.9MB/s \n",
      "\u001b[?25hCollecting sacremoses\n",
      "\u001b[?25l  Downloading https://files.pythonhosted.org/packages/7d/34/09d19aff26edcc8eb2a01bed8e98f13a1537005d31e95233fd48216eed10/sacremoses-0.0.43.tar.gz (883kB)\n",
      "\u001b[K     |████████████████████████████████| 890kB 28.9MB/s \n",
      "\u001b[?25hRequirement already satisfied: tqdm>=4.27 in /usr/local/lib/python3.6/dist-packages (from transformers) (4.41.1)\n",
      "Requirement already satisfied: numpy in /usr/local/lib/python3.6/dist-packages (from transformers) (1.19.4)\n",
      "Requirement already satisfied: filelock in /usr/local/lib/python3.6/dist-packages (from transformers) (3.0.12)\n",
      "Requirement already satisfied: packaging in /usr/local/lib/python3.6/dist-packages (from transformers) (20.8)\n",
      "Requirement already satisfied: requests in /usr/local/lib/python3.6/dist-packages (from transformers) (2.23.0)\n",
      "Collecting tokenizers==0.9.4\n",
      "\u001b[?25l  Downloading https://files.pythonhosted.org/packages/0f/1c/e789a8b12e28be5bc1ce2156cf87cb522b379be9cadc7ad8091a4cc107c4/tokenizers-0.9.4-cp36-cp36m-manylinux2010_x86_64.whl (2.9MB)\n",
      "\u001b[K     |████████████████████████████████| 2.9MB 50.5MB/s \n",
      "\u001b[?25hRequirement already satisfied: dataclasses; python_version < \"3.7\" in /usr/local/lib/python3.6/dist-packages (from transformers) (0.8)\n",
      "Requirement already satisfied: regex!=2019.12.17 in /usr/local/lib/python3.6/dist-packages (from transformers) (2019.12.20)\n",
      "Requirement already satisfied: six in /usr/local/lib/python3.6/dist-packages (from sacremoses->transformers) (1.15.0)\n",
      "Requirement already satisfied: click in /usr/local/lib/python3.6/dist-packages (from sacremoses->transformers) (7.1.2)\n",
      "Requirement already satisfied: joblib in /usr/local/lib/python3.6/dist-packages (from sacremoses->transformers) (1.0.0)\n",
      "Requirement already satisfied: pyparsing>=2.0.2 in /usr/local/lib/python3.6/dist-packages (from packaging->transformers) (2.4.7)\n",
      "Requirement already satisfied: idna<3,>=2.5 in /usr/local/lib/python3.6/dist-packages (from requests->transformers) (2.10)\n",
      "Requirement already satisfied: chardet<4,>=3.0.2 in /usr/local/lib/python3.6/dist-packages (from requests->transformers) (3.0.4)\n",
      "Requirement already satisfied: certifi>=2017.4.17 in /usr/local/lib/python3.6/dist-packages (from requests->transformers) (2020.12.5)\n",
      "Requirement already satisfied: urllib3!=1.25.0,!=1.25.1,<1.26,>=1.21.1 in /usr/local/lib/python3.6/dist-packages (from requests->transformers) (1.24.3)\n",
      "Building wheels for collected packages: sacremoses\n",
      "  Building wheel for sacremoses (setup.py) ... \u001b[?25l\u001b[?25hdone\n",
      "  Created wheel for sacremoses: filename=sacremoses-0.0.43-cp36-none-any.whl size=893261 sha256=e36db39f3fe6fe180e08f12a98a4819adee0292cc3b798c15ec46a46b99ff5d3\n",
      "  Stored in directory: /root/.cache/pip/wheels/29/3c/fd/7ce5c3f0666dab31a50123635e6fb5e19ceb42ce38d4e58f45\n",
      "Successfully built sacremoses\n",
      "Installing collected packages: sacremoses, tokenizers, transformers\n",
      "Successfully installed sacremoses-0.0.43 tokenizers-0.9.4 transformers-4.1.1\n",
      "Collecting sentencepiece\n",
      "\u001b[?25l  Downloading https://files.pythonhosted.org/packages/e5/2d/6d4ca4bef9a67070fa1cac508606328329152b1df10bdf31fb6e4e727894/sentencepiece-0.1.94-cp36-cp36m-manylinux2014_x86_64.whl (1.1MB)\n",
      "\u001b[K     |████████████████████████████████| 1.1MB 9.2MB/s \n",
      "\u001b[?25hInstalling collected packages: sentencepiece\n",
      "Successfully installed sentencepiece-0.1.94\n"
     ]
    }
   ],
   "source": [
    "!pip install transformers\n",
    "!pip install sentencepiece"
   ]
  },
  {
   "cell_type": "code",
   "execution_count": 3,
   "metadata": {
    "id": "fM0lku9lt9As"
   },
   "outputs": [],
   "source": [
    "import torch                                              #for training the model\n",
    "from torch.utils.data import DataLoader, RandomSampler, SequentialSampler\n",
    "from torch.utils.data import TensorDataset\n",
    "import pandas as pd                                       #for handling the data\n",
    "from transformers import XLMRobertaTokenizer              #for loading the pretrained model and tokenizer\n",
    "from transformers import XLMRobertaForSequenceClassification\n",
    "from transformers import AdamW                            \n",
    "from transformers import get_linear_schedule_with_warmup\n",
    "from sklearn import preprocessing                         #for label encoding\n",
    "from sklearn.metrics import classification_report         #for showing performance on validation/test sets\n",
    "from sklearn.metrics import f1_score\n",
    "from sklearn.metrics import confusion_matrix\n",
    "from sklearn.model_selection import ParameterGrid         #for gridsearch\n",
    "import sentencepiece\n",
    "import matplotlib.pyplot as plt\n",
    "import time\n",
    "import datetime\n",
    "import random\n",
    "import numpy as np\n",
    "% matplotlib inline\n",
    "import seaborn as sns"
   ]
  },
  {
   "cell_type": "markdown",
   "metadata": {
    "id": "vXVdDSzPWpuQ"
   },
   "source": [
    "# Load Data"
   ]
  },
  {
   "cell_type": "markdown",
   "metadata": {
    "id": "4XjnVL2AfMrV"
   },
   "source": [
    "Load data from text files "
   ]
  },
  {
   "cell_type": "code",
   "execution_count": 4,
   "metadata": {
    "id": "3uHTNIY9xM08"
   },
   "outputs": [],
   "source": [
    "# sk learn label encoder for changing the labels to integers\n",
    "labels=[\"ANT\", \"HYP\", \"RANDOM\", \"SYN\"]\n",
    "le = preprocessing.LabelEncoder()\n",
    "le.fit(labels)\n",
    "\n",
    "#chinese \n",
    "data_train_zh = pd.read_csv('data/train/train_chinese_data.txt', sep=\"\\t\", header=None)\n",
    "data_train_zh.columns = [\"Word1\", \"Word2\", \"Label\"]\n",
    "\n",
    "data_valid_zh = pd.read_csv('data/valid/validgold_chinese_data.txt', sep=\"\\t\", header=None)\n",
    "data_valid_zh.columns = [\"Word1\", \"Word2\", \"Label\"]\n",
    "\n",
    "data_train_zh[\"Label\"]=le.transform(data_train_zh[\"Label\"])\n",
    "data_valid_zh[\"Label\"]=le.transform(data_valid_zh[\"Label\"])\n",
    "\n",
    "#english \n",
    "data_train_en = pd.read_csv('data/train/train_english_data.txt', sep=\"\\t\", header=None)\n",
    "data_train_en.columns = [\"Word1\", \"Word2\", \"Label\"]\n",
    "\n",
    "data_valid_en = pd.read_csv('data/valid/validgold_english_data.txt', sep=\"\\t\", header=None)\n",
    "data_valid_en.columns = [\"Word1\", \"Word2\", \"Label\"]\n",
    "\n",
    "data_train_en[\"Label\"]=le.transform(data_train_en[\"Label\"])\n",
    "data_valid_en[\"Label\"]=le.transform(data_valid_en[\"Label\"])\n",
    "\n",
    "#german \n",
    "data_train_de = pd.read_csv('data/train/train_german_data.txt', sep=\"\\t\", header=None)\n",
    "data_train_de.columns = [\"Word1\", \"Word2\", \"Label\"]\n",
    "\n",
    "data_valid_de = pd.read_csv('data/valid/validgold_german_data.txt', sep=\"\\t\", header=None)\n",
    "data_valid_de.columns = [\"Word1\", \"Word2\", \"Label\"]\n",
    "\n",
    "data_train_de[\"Label\"]=le.transform(data_train_de[\"Label\"])\n",
    "data_valid_de[\"Label\"]=le.transform(data_valid_de[\"Label\"])\n",
    "\n",
    "\n",
    "# all together\n",
    "data_train_all=pd.concat([data_train_zh, data_train_en, data_train_de])\n",
    "data_train_all=data_train_all.reset_index(drop=True)\n",
    "data_valid_all=pd.concat([data_valid_zh, data_valid_en, data_valid_de])\n",
    "data_valid_all=data_valid_all.reset_index(drop=True)"
   ]
  },
  {
   "cell_type": "code",
   "execution_count": 5,
   "metadata": {
    "colab": {
     "base_uri": "https://localhost:8080/",
     "height": 295
    },
    "id": "ccHj8gEmqA88",
    "outputId": "cd5f46a0-5589-45f4-ae97-86206c620047"
   },
   "outputs": [
    {
     "data": {
      "text/plain": [
       "<matplotlib.axes._subplots.AxesSubplot at 0x7f3264718e80>"
      ]
     },
     "execution_count": 5,
     "metadata": {
      "tags": []
     },
     "output_type": "execute_result"
    },
    {
     "data": {
      "image/png": "[encoded data removed]",
      "text/plain": [
       "<Figure size 432x288 with 1 Axes>"
      ]
     },
     "metadata": {
      "needs_background": "light",
      "tags": []
     },
     "output_type": "display_data"
    }
   ],
   "source": [
    "# print class distribution \n",
    "data_train_all[\"Label\"].value_counts().plot(kind='bar', title='Count (target)')"
   ]
  },
  {
   "cell_type": "markdown",
   "metadata": {
    "id": "da8D7C2WZDAh"
   },
   "source": [
    "# Tokenize"
   ]
  },
  {
   "cell_type": "markdown",
   "metadata": {
    "id": "zd6-b2-SiCiL"
   },
   "source": [
    "Tokenize Data\n",
    "\n",
    "- encode in the right format for XLM-Roberta ( <s\\> = sentence beginning, </s\\> end of sentence/sentence seperator)\n",
    "\n",
    "- Truncate/Padding so everything has the same length"
   ]
  },
  {
   "cell_type": "code",
   "execution_count": 6,
   "metadata": {
    "colab": {
     "base_uri": "https://localhost:8080/",
     "height": 66,
     "referenced_widgets": [
      "ba89918f181649f2bd10ce5c6f1e6d48",
      "d79b07b8495c416c83cbfdfffb3d8e1c",
      "3753df9760b643dba4e0aa54313b1689",
      "ff08b72911f14f77a8c51fbf0287ef15",
      "0db3ca8db482422ca68db57d980c0643",
      "5bca0b4663d3475fb9ca4793783b2130",
      "b07f70c2f1e4473bb8a90fa65d281183",
      "b5e15dfc072a46ad9367eaafa17f6313"
     ]
    },
    "id": "qoUK_mvmh1im",
    "outputId": "4c69b179-a621-40fa-a479-ca6d88090dfb"
   },
   "outputs": [
    {
     "data": {
      "application/vnd.jupyter.widget-view+json": {
       "model_id": "ba89918f181649f2bd10ce5c6f1e6d48",
       "version_major": 2,
       "version_minor": 0
      },
      "text/plain": [
       "HBox(children=(FloatProgress(value=0.0, description='Downloading', max=5069051.0, style=ProgressStyle(descript…"
      ]
     },
     "metadata": {
      "tags": []
     },
     "output_type": "display_data"
    },
    {
     "name": "stdout",
     "output_type": "stream",
     "text": [
      "\n"
     ]
    }
   ],
   "source": [
    "xlmr_tokenizer = XLMRobertaTokenizer.from_pretrained(\"xlm-roberta-base\" )"
   ]
  },
  {
   "cell_type": "code",
   "execution_count": 7,
   "metadata": {
    "id": "fCoGBdK6iput"
   },
   "outputs": [],
   "source": [
    "max_len=64\n",
    "\n",
    "def tokenizer_xlm(data, max_len):\n",
    "  labels_ = []\n",
    "  input_ids_ = []\n",
    "  attn_masks_ = []\n",
    "\n",
    "  # for each datasample:\n",
    "  for index, row in data.iterrows():\n",
    "\n",
    "      word1 = row['Word1']\n",
    "      word2 = row['Word2']\n",
    "\n",
    "      # create requiered input, i.e. ids and attention masks\n",
    "      encoded_dict = xlmr_tokenizer.encode_plus(word1, word2, \n",
    "                                                max_length=max_len, \n",
    "                                                padding='max_length',\n",
    "                                                truncation=True, \n",
    "                                                return_tensors='pt')\n",
    "\n",
    "      # add encoded sample to lists\n",
    "      input_ids_.append(encoded_dict['input_ids'])\n",
    "      attn_masks_.append(encoded_dict['attention_mask'])\n",
    "      labels_.append(row['Label'])\n",
    "      \n",
    "  # Convert each Python list of Tensors into a 2D Tensor matrix.\n",
    "  input_ids_ = torch.cat(input_ids_, dim=0)\n",
    "  attn_masks_ = torch.cat(attn_masks_, dim=0)\n",
    "\n",
    "  # labels to tensor\n",
    "  labels_ = torch.tensor(labels_)\n",
    "\n",
    "  print('Encoder finished. {:,} examples.'.format(len(labels_)))\n",
    "  return input_ids_, attn_masks_, labels_"
   ]
  },
  {
   "cell_type": "code",
   "execution_count": 8,
   "metadata": {
    "colab": {
     "base_uri": "https://localhost:8080/"
    },
    "id": "rD54rHpy4OEm",
    "outputId": "8708454e-7a26-4b00-fb41-94ca9a7e64c5"
   },
   "outputs": [
    {
     "name": "stdout",
     "output_type": "stream",
     "text": [
      "All\n",
      "Encoder finished. 12,606 examples.\n",
      "Encoder finished. 4,201 examples.\n",
      "zh\n",
      "Encoder finished. 2,514 examples.\n",
      "Encoder finished. 838 examples.\n",
      "en\n",
      "Encoder finished. 5,210 examples.\n",
      "Encoder finished. 1,736 examples.\n",
      "de\n",
      "Encoder finished. 4,882 examples.\n",
      "Encoder finished. 1,627 examples.\n"
     ]
    }
   ],
   "source": [
    "# tokenize data\n",
    "\n",
    "#all\n",
    "print(\"All\")\n",
    "input_ids_train_all, attn_masks_train_all, labels_train_all = tokenizer_xlm(data_train_all, max_len)\n",
    "input_ids_valid_all, attn_masks_valid_all, labels_valid_all = tokenizer_xlm(data_valid_all, max_len)\n",
    "\n",
    "#zh\n",
    "print(\"zh\")\n",
    "input_ids_train_zh, attn_masks_train_zh, labels_train_zh = tokenizer_xlm(data_train_zh, max_len)\n",
    "input_ids_valid_zh, attn_masks_valid_zh, labels_valid_zh = tokenizer_xlm(data_valid_zh, max_len)\n",
    "\n",
    "#en\n",
    "print(\"en\")\n",
    "input_ids_train_en, attn_masks_train_en, labels_train_en = tokenizer_xlm(data_train_en, max_len)\n",
    "input_ids_valid_en, attn_masks_valid_en, labels_valid_en = tokenizer_xlm(data_valid_en, max_len)\n",
    "\n",
    "#de\n",
    "print(\"de\")\n",
    "input_ids_train_de, attn_masks_train_de, labels_train_de = tokenizer_xlm(data_train_de, max_len)\n",
    "input_ids_valid_de, attn_masks_valid_de, labels_valid_de = tokenizer_xlm(data_valid_de, max_len)"
   ]
  },
  {
   "cell_type": "code",
   "execution_count": 9,
   "metadata": {
    "id": "7K62ohYg00oH"
   },
   "outputs": [],
   "source": [
    "# Combine the training inputs into a TensorDataset.\n",
    "\n",
    "#all\n",
    "tensor_data_train_all = TensorDataset(input_ids_train_all, attn_masks_train_all, labels_train_all)\n",
    "tensor_data_valid_all = TensorDataset(input_ids_valid_all, attn_masks_valid_all, labels_valid_all)\n",
    "#zh\n",
    "tensor_data_train_zh = TensorDataset(input_ids_train_zh, attn_masks_train_zh, labels_train_zh)\n",
    "tensor_data_valid_zh = TensorDataset(input_ids_valid_zh, attn_masks_valid_zh, labels_valid_zh)\n",
    "#en\n",
    "tensor_data_train_en = TensorDataset(input_ids_train_en, attn_masks_train_en, labels_train_en)\n",
    "tensor_data_valid_en = TensorDataset(input_ids_valid_en, attn_masks_valid_en, labels_valid_en)\n",
    "#de\n",
    "tensor_data_train_de = TensorDataset(input_ids_train_de, attn_masks_train_de, labels_train_de)\n",
    "tensor_data_valid_de = TensorDataset(input_ids_valid_de, attn_masks_valid_de, labels_valid_de)"
   ]
  },
  {
   "cell_type": "code",
   "execution_count": 10,
   "metadata": {
    "id": "SRjNGp6Y1R_h"
   },
   "outputs": [],
   "source": [
    "#prepare pytorch dataloaders\n",
    "\n",
    "batch_size = 32\n",
    "\n",
    "#all\n",
    "train_dataloader_all = DataLoader(tensor_data_train_all, sampler = RandomSampler(tensor_data_train_all), batch_size = batch_size) #random sampling\n",
    "validation_dataloader_all = DataLoader(tensor_data_valid_all, sampler = SequentialSampler(tensor_data_valid_all),batch_size = batch_size ) #sequential sampling\n",
    "#zh\n",
    "train_dataloader_zh = DataLoader(tensor_data_train_zh, sampler = RandomSampler(tensor_data_train_zh), batch_size = batch_size)\n",
    "validation_dataloader_zh = DataLoader(tensor_data_valid_zh, sampler = SequentialSampler(tensor_data_valid_zh),batch_size = batch_size)\n",
    "#en\n",
    "train_dataloader_en = DataLoader(tensor_data_train_en, sampler = RandomSampler(tensor_data_train_en), batch_size = batch_size)\n",
    "validation_dataloader_en = DataLoader(tensor_data_valid_en, sampler = SequentialSampler(tensor_data_valid_en),batch_size = batch_size)\n",
    "#de\n",
    "train_dataloader_de = DataLoader(tensor_data_train_de, sampler = RandomSampler(tensor_data_train_de), batch_size = batch_size)\n",
    "validation_dataloader_de = DataLoader(tensor_data_valid_de, sampler = SequentialSampler(tensor_data_valid_de),batch_size = batch_size)"
   ]
  },
  {
   "cell_type": "markdown",
   "metadata": {
    "id": "OAm6GWa-6NJS"
   },
   "source": [
    "# Training the Classifier (Finetuning XLM-RoBERTa)"
   ]
  },
  {
   "cell_type": "code",
   "execution_count": 12,
   "metadata": {
    "colab": {
     "base_uri": "https://localhost:8080/",
     "height": 171,
     "referenced_widgets": [
      "c69e9514345944a18780f74fd55cc97f",
      "392d1b126ea549fea9b77e317929b5c9",
      "55513c30e3194e5b8b98793776098b14",
      "b96064f9c88b4d5fb605842e22ee5ec8",
      "3b82354faba14c37bc6419d1d033df03",
      "9fcfd2bc25434ab1b3b478f6528c577b",
      "745bdbc2dd454163bc3de08b80a19806",
      "0bca7a6b07ac4b7f9980679b06dcb798"
     ]
    },
    "id": "x-1l4-Ze6U5P",
    "outputId": "04eede80-3e1d-46b6-fb30-83c4ece2a9e4"
   },
   "outputs": [
    {
     "data": {
      "application/vnd.jupyter.widget-view+json": {
       "model_id": "c69e9514345944a18780f74fd55cc97f",
       "version_major": 2,
       "version_minor": 0
      },
      "text/plain": [
       "HBox(children=(FloatProgress(value=0.0, description='Downloading', max=1115590446.0, style=ProgressStyle(descr…"
      ]
     },
     "metadata": {
      "tags": []
     },
     "output_type": "display_data"
    },
    {
     "name": "stdout",
     "output_type": "stream",
     "text": [
      "\n"
     ]
    },
    {
     "name": "stderr",
     "output_type": "stream",
     "text": [
      "Some weights of the model checkpoint at xlm-roberta-base were not used when initializing XLMRobertaForSequenceClassification: ['lm_head.bias', 'lm_head.dense.weight', 'lm_head.dense.bias', 'lm_head.layer_norm.weight', 'lm_head.layer_norm.bias', 'lm_head.decoder.weight', 'roberta.pooler.dense.weight', 'roberta.pooler.dense.bias']\n",
      "- This IS expected if you are initializing XLMRobertaForSequenceClassification from the checkpoint of a model trained on another task or with another architecture (e.g. initializing a BertForSequenceClassification model from a BertForPreTraining model).\n",
      "- This IS NOT expected if you are initializing XLMRobertaForSequenceClassification from the checkpoint of a model that you expect to be exactly identical (initializing a BertForSequenceClassification model from a BertForSequenceClassification model).\n",
      "Some weights of XLMRobertaForSequenceClassification were not initialized from the model checkpoint at xlm-roberta-base and are newly initialized: ['classifier.dense.weight', 'classifier.dense.bias', 'classifier.out_proj.weight', 'classifier.out_proj.bias']\n",
      "You should probably TRAIN this model on a down-stream task to be able to use it for predictions and inference.\n"
     ]
    }
   ],
   "source": [
    "#load the pretrained model provided by HuggingFace with an added untrained classification head for 4 classes\n",
    "xlmr_model = XLMRobertaForSequenceClassification.from_pretrained(\"xlm-roberta-base\", num_labels=4)"
   ]
  },
  {
   "cell_type": "code",
   "execution_count": 13,
   "metadata": {
    "colab": {
     "base_uri": "https://localhost:8080/"
    },
    "id": "hkxluZ1ulxeF",
    "outputId": "10923a25-8f8d-4a86-ddfd-ac2ed6507f0e"
   },
   "outputs": [
    {
     "name": "stdout",
     "output_type": "stream",
     "text": [
      "Training Samples: 12606\n"
     ]
    }
   ],
   "source": [
    "#choose training set used for this single training example (original training data for final model)\n",
    "train_dataloader = train_dataloader_all\n",
    "print(\"Training Samples:\",len(train_dataloader.dataset))"
   ]
  },
  {
   "cell_type": "code",
   "execution_count": 14,
   "metadata": {
    "colab": {
     "base_uri": "https://localhost:8080/"
    },
    "id": "rj2KvpZ46wJX",
    "outputId": "886453d7-509e-4fa9-cc28-68d2b59080ad"
   },
   "outputs": [
    {
     "name": "stdout",
     "output_type": "stream",
     "text": [
      "Connected to GPU: Tesla T4\n"
     ]
    }
   ],
   "source": [
    "# connect to GPU \n",
    "device = torch.device('cuda')\n",
    "# copy weights onto GPU\n",
    "desc = xlmr_model.to(device)\n",
    "\n",
    "print('Connected to GPU:', torch.cuda.get_device_name(0))"
   ]
  },
  {
   "cell_type": "markdown",
   "metadata": {
    "id": "8znTmQ-067np"
   },
   "source": [
    "Set parameters (learning rate & epochs)"
   ]
  },
  {
   "cell_type": "code",
   "execution_count": 15,
   "metadata": {
    "id": "zF-StfZ664Fj"
   },
   "outputs": [],
   "source": [
    "optimizer = AdamW(xlmr_model.parameters(),\n",
    "                  lr = 2e-5,   # do work well: 2e-5 with 5-7 epochs for trainall, 1e-5\n",
    "                  eps = 1e-8   # 1e-8\n",
    "                  # weight_decay = 0          \n",
    "                  )"
   ]
  },
  {
   "cell_type": "code",
   "execution_count": 16,
   "metadata": {
    "colab": {
     "base_uri": "https://localhost:8080/"
    },
    "id": "e3n400X88kau",
    "outputId": "8898a820-2e67-4d76-c923-617e7998a2c4"
   },
   "outputs": [
    {
     "name": "stdout",
     "output_type": "stream",
     "text": [
      "total steps: 2758\n"
     ]
    }
   ],
   "source": [
    "# number of training epochs\n",
    "epochs = 7\n",
    "\n",
    "# number of batches x epochs\n",
    "total_steps = len(train_dataloader) * epochs\n",
    "print(\"total steps:\", total_steps)\n",
    "\n",
    "#scheduler for lr\n",
    "scheduler = get_linear_schedule_with_warmup(optimizer, \n",
    "                                            num_warmup_steps = 0,   #start low and increase learning rate during these steps\n",
    "                                            num_training_steps = total_steps)"
   ]
  },
  {
   "cell_type": "markdown",
   "metadata": {
    "id": "Ia0s_Z4I3KO7"
   },
   "source": [
    "Formatting functions"
   ]
  },
  {
   "cell_type": "code",
   "execution_count": 17,
   "metadata": {
    "id": "u-OAa6pi5FVQ"
   },
   "outputs": [],
   "source": [
    "# return time as hh:mm:ss\n",
    "def format_time(elapsed):\n",
    "    elapsed_rounded = int(round((elapsed)))\n",
    "    return str(datetime.timedelta(seconds=elapsed_rounded))  \n"
   ]
  },
  {
   "cell_type": "markdown",
   "metadata": {
    "id": "Rfz7OkuwEAXa"
   },
   "source": [
    "Validation function"
   ]
  },
  {
   "cell_type": "code",
   "execution_count": 18,
   "metadata": {
    "id": "-66H7RWhDtti"
   },
   "outputs": [],
   "source": [
    "def validate(validation_dataloader, xlmr_model, verbose): \n",
    "  \n",
    "  # put model in evaluation mode \n",
    "  xlmr_model.eval()\n",
    "\n",
    "  # variable for loss, predictions and labels\n",
    "  total_eval_loss = 0\n",
    "  predictions, true_labels = [], []\n",
    "\n",
    "  # Evaluate data for one epoch\n",
    "  for batch in validation_dataloader:\n",
    "          \n",
    "      # Unpack training batch and copy the tensors to the gpu\n",
    "      b_input_ids = batch[0].to(device)\n",
    "      b_input_mask = batch[1].to(device)\n",
    "      b_labels = batch[2].to(device)\n",
    "          \n",
    "      # no backprop needed\n",
    "      with torch.no_grad():        \n",
    "\n",
    "          # forward pass\n",
    "          output = xlmr_model(b_input_ids, \n",
    "                                    token_type_ids=None, \n",
    "                                    attention_mask=b_input_mask,\n",
    "                                    labels=b_labels)\n",
    "          loss=output.loss\n",
    "          logits=output.logits\n",
    "              \n",
    "      # add up loss\n",
    "      total_eval_loss += loss.item()\n",
    "\n",
    "      # on cpu\n",
    "      logits = logits.detach().cpu().numpy()\n",
    "      label_ids = b_labels.to('cpu').numpy()\n",
    "\n",
    "      # save preds/true labels\n",
    "      predictions.append(logits)\n",
    "      true_labels.append(label_ids)\n",
    "\n",
    "  # results of the whole validation set\n",
    "  flat_predictions = np.concatenate(predictions, axis=0)\n",
    "  flat_true_labels = np.concatenate(true_labels, axis=0)\n",
    "\n",
    "  # logit to label\n",
    "  predicted_labels = np.argmax(flat_predictions, axis=1).flatten()\n",
    "\n",
    "  # print classification report\n",
    "  if verbose:\n",
    "    print(classification_report(flat_true_labels, predicted_labels, target_names=labels))\n",
    "\n",
    "  # Calculate the validation accuracy, macro f1, and weighted f1 without RANDOM\n",
    "  val_accuracy = (predicted_labels == flat_true_labels).mean()\n",
    "  macroF1 = f1_score(flat_true_labels, predicted_labels, average='macro')\n",
    "  weightedF1_no_random=f1_score(flat_true_labels, predicted_labels, average='weighted', labels=[0,1,3])\n",
    "  print(\"\\t Weighted F1 (no random):\", weightedF1_no_random)\n",
    "\n",
    "  # Calculate the average loss over all of the batches.\n",
    "  avg_val_loss = total_eval_loss / len(validation_dataloader)\n",
    "\n",
    "  # plot confusion matrix\n",
    "  if verbose:\n",
    "    print(confusion_matrix(flat_true_labels, predicted_labels, labels=[0,1,2,3]))\n",
    "\n",
    "  return avg_val_loss, val_accuracy, macroF1, weightedF1_no_random\n",
    "      "
   ]
  },
  {
   "cell_type": "markdown",
   "metadata": {
    "id": "CrCKhOce9ASW"
   },
   "source": [
    "Training"
   ]
  },
  {
   "cell_type": "code",
   "execution_count": 19,
   "metadata": {
    "id": "BcgjT8Gw82UN"
   },
   "outputs": [],
   "source": [
    "def train_model(epochs, xlmr_model, train_dataloader, validation_dataloader_set, random_seed, verbose):\n",
    "\n",
    "  seed_val = random_seed\n",
    "\n",
    "  random.seed(seed_val)\n",
    "  np.random.seed(seed_val)\n",
    "  torch.manual_seed(seed_val)\n",
    "  torch.cuda.manual_seed_all(seed_val)\n",
    "\n",
    "  # mostly contains scores about how the training went for each epoch\n",
    "  training_stats = []\n",
    "\n",
    "  # total training time\n",
    "  total_t0 = time.time()\n",
    "\n",
    "  print('\\033[1m'+\"================ Model Training ================\"+'\\033[0m')\n",
    "\n",
    "  # For each epoch...\n",
    "  for epoch_i in range(0, epochs):\n",
    "\n",
    "      print(\"\")\n",
    "      print('\\033[1m'+'======== Epoch {:} / {:} ========'.format(epoch_i + 1, epochs)+'\\033[0m')\n",
    "\n",
    "      t0 = time.time()\n",
    "\n",
    "      # summed training loss of the epoch\n",
    "      total_train_loss = 0\n",
    "\n",
    "\n",
    "      # model is being put into training mode as mechanisms like dropout work differently during train and test time\n",
    "      xlmr_model.train()\n",
    "\n",
    "      # For each batch of training data...\n",
    "      for step, batch in enumerate(train_dataloader):\n",
    "\n",
    "          # unpack training batch at load it to gpu (device)  \n",
    "          b_input_ids = batch[0].to(device)\n",
    "          b_input_mask = batch[1].to(device)\n",
    "          b_labels = batch[2].to(device)\n",
    "\n",
    "          # clear gradients before calculating new ones\n",
    "          xlmr_model.zero_grad()        \n",
    "\n",
    "          # forward pass with current batch\n",
    "          output = xlmr_model(b_input_ids, \n",
    "                              token_type_ids=None, \n",
    "                              attention_mask=b_input_mask, \n",
    "                              labels=b_labels)\n",
    "          \n",
    "          loss=output.loss\n",
    "          logits=output.logits\n",
    "\n",
    "          # add up the loss\n",
    "          total_train_loss += loss.item()\n",
    "\n",
    "          # calculate new gradients\n",
    "          loss.backward()\n",
    "\n",
    "          # gradient clipping (not bigger than)\n",
    "          torch.nn.utils.clip_grad_norm_(xlmr_model.parameters(), 1.0)\n",
    "\n",
    "          # Update the networks weights based on the gradient as well as the optimiziers parameters\n",
    "          optimizer.step()\n",
    "\n",
    "          # lr update\n",
    "          scheduler.step()\n",
    "\n",
    "      # avg loss over all batches\n",
    "      avg_train_loss = total_train_loss / len(train_dataloader)            \n",
    "      \n",
    "      # training time of this epoch\n",
    "      training_time = format_time(time.time() - t0)\n",
    "\n",
    "      print(\"\")\n",
    "      print(\"  Average training loss: {0:.2f}\".format(avg_train_loss))\n",
    "      print(\"  Training epoch took: {:}\".format(training_time))\n",
    "          \n",
    "  \n",
    "      # VALIDATION\n",
    "\n",
    "      #all\n",
    "      print(\"evaluate on all\")\n",
    "      avg_val_loss_all, val_accuracy_all, macroF1_all, weightedF1_no_random_all = validate(validation_dataloader_set[0], xlmr_model, verbose)   \n",
    "      #zh\n",
    "      print(\"evaluate on zh\")\n",
    "      avg_val_loss_zh, val_accuracy_zh, macroF1_zh, weightedF1_no_random_zh = validate(validation_dataloader_set[1], xlmr_model, verbose) \n",
    "      #en\n",
    "      print(\"evaluate on en\")\n",
    "      avg_val_loss_en, val_accuracy_en, macroF1_en, weightedF1_no_random_en = validate(validation_dataloader_set[2], xlmr_model, verbose) \n",
    "      #de\n",
    "      print(\"evaluate on de\")\n",
    "      avg_val_loss_de, val_accuracy_de, macroF1_de, weightedF1_no_random_de = validate(validation_dataloader_set[3], xlmr_model, verbose)  \n",
    "       \n",
    "\n",
    "      print('\\033[1m'+ \"  Validation Loss All: {0:.2f}\".format(avg_val_loss_all) + '\\033[0m')\n",
    "\n",
    "      training_stats.append(\n",
    "          {\n",
    "              'epoch': epoch_i + 1,\n",
    "              'Training Loss': avg_train_loss,\n",
    "              'Valid. Loss all': avg_val_loss_all,\n",
    "              'Valid. Accur. all': val_accuracy_all,\n",
    "              'Weigh_F1 all (no random)': weightedF1_no_random_all, \n",
    "              'Macro F1 all': macroF1_all,\n",
    "              'Weigh_F1 en': weightedF1_no_random_en,\n",
    "              'Weigh_F1 de': weightedF1_no_random_de,\n",
    "              'Weigh_F1 zh': weightedF1_no_random_zh,\n",
    "              'Training Time': training_time,\n",
    "          }\n",
    "      )\n",
    "\n",
    "  print(\"\\n\\nTraining complete!\")\n",
    "  print(\"Total training took {:} (h:mm:ss)\".format(format_time(time.time()-total_t0)))\n",
    "  \n",
    "  return training_stats\n"
   ]
  },
  {
   "cell_type": "code",
   "execution_count": null,
   "metadata": {
    "colab": {
     "base_uri": "https://localhost:8080/",
     "height": 1000
    },
    "id": "Dsue5wnCmQCr",
    "outputId": "1dede1ef-a6b6-42c7-d7a7-1094ca1ba6a0"
   },
   "outputs": [
    {
     "name": "stdout",
     "output_type": "stream",
     "text": [
      "\u001b[1m================ Model Training ================\u001b[0m\n",
      "\n",
      "\u001b[1m======== Epoch 1 / 7 ========\u001b[0m\n",
      "\n",
      "  Average training loss: 1.24\n",
      "  Training epoch took: 0:02:49\n",
      "evaluate on all\n",
      "              precision    recall  f1-score   support\n",
      "\n",
      "         ANT       0.27      0.16      0.20       719\n",
      "         HYP       0.46      0.16      0.24       731\n",
      "      RANDOM       0.64      0.87      0.74      2091\n",
      "         SYN       0.34      0.36      0.35       660\n",
      "\n",
      "    accuracy                           0.54      4201\n",
      "   macro avg       0.43      0.39      0.38      4201\n",
      "weighted avg       0.50      0.54      0.50      4201\n",
      "\n",
      "\t Weighted F1 (no random): 0.2602448727180897\n",
      "[[ 112   45  386  176]\n",
      " [  76  119  342  194]\n",
      " [ 129   56 1812   94]\n",
      " [  96   41  284  239]]\n",
      "evaluate on zh\n",
      "              precision    recall  f1-score   support\n",
      "\n",
      "         ANT       0.40      0.15      0.22       136\n",
      "         HYP       0.65      0.25      0.36       145\n",
      "      RANDOM       0.91      0.79      0.85       428\n",
      "         SYN       0.33      0.91      0.48       129\n",
      "\n",
      "    accuracy                           0.61       838\n",
      "   macro avg       0.57      0.52      0.48       838\n",
      "weighted avg       0.69      0.61      0.60       838\n",
      "\n",
      "\t Weighted F1 (no random): 0.34921310531134203\n",
      "[[ 20   1  14 101]\n",
      " [  7  36  11  91]\n",
      " [ 19  18 340  51]\n",
      " [  4   0   8 117]]\n",
      "evaluate on en\n",
      "              precision    recall  f1-score   support\n",
      "\n",
      "         ANT       0.22      0.13      0.16       308\n",
      "         HYP       0.39      0.22      0.28       292\n",
      "      RANDOM       0.62      0.86      0.72       877\n",
      "         SYN       0.35      0.22      0.27       259\n",
      "\n",
      "    accuracy                           0.53      1736\n",
      "   macro avg       0.39      0.36      0.36      1736\n",
      "weighted avg       0.47      0.53      0.48      1736\n",
      "\n",
      "\t Weighted F1 (no random): 0.2346543909446359\n",
      "[[ 40  36 201  31]\n",
      " [ 37  65 142  48]\n",
      " [ 62  32 757  26]\n",
      " [ 46  35 122  56]]\n",
      "evaluate on de\n",
      "              precision    recall  f1-score   support\n",
      "\n",
      "         ANT       0.29      0.19      0.23       275\n",
      "         HYP       0.47      0.06      0.11       294\n",
      "      RANDOM       0.58      0.91      0.71       786\n",
      "         SYN       0.36      0.24      0.29       272\n",
      "\n",
      "    accuracy                           0.52      1627\n",
      "   macro avg       0.43      0.35      0.33      1627\n",
      "weighted avg       0.48      0.52      0.45      1627\n",
      "\n",
      "\t Weighted F1 (no random): 0.20701293263907533\n",
      "[[ 52   8 171  44]\n",
      " [ 32  18 189  55]\n",
      " [ 48   6 715  17]\n",
      " [ 46   6 154  66]]\n",
      "\u001b[1m  Validation Loss All: 1.11\u001b[0m\n",
      "\n",
      "\u001b[1m======== Epoch 2 / 7 ========\u001b[0m\n",
      "\n",
      "  Average training loss: 1.03\n",
      "  Training epoch took: 0:02:52\n",
      "evaluate on all\n",
      "              precision    recall  f1-score   support\n",
      "\n",
      "         ANT       0.51      0.39      0.44       719\n",
      "         HYP       0.47      0.46      0.47       731\n",
      "      RANDOM       0.79      0.74      0.77      2091\n",
      "         SYN       0.41      0.60      0.48       660\n",
      "\n",
      "    accuracy                           0.61      4201\n",
      "   macro avg       0.54      0.55      0.54      4201\n",
      "weighted avg       0.63      0.61      0.61      4201\n",
      "\n",
      "\t Weighted F1 (no random): 0.46249658218205847\n",
      "[[ 279   66  194  180]\n",
      " [  57  336  114  224]\n",
      " [ 149  209 1554  179]\n",
      " [  66  101   96  397]]\n",
      "evaluate on zh\n",
      "              precision    recall  f1-score   support\n",
      "\n",
      "         ANT       0.86      0.61      0.71       136\n",
      "         HYP       0.79      0.82      0.81       145\n",
      "      RANDOM       0.93      0.90      0.92       428\n",
      "         SYN       0.64      0.88      0.74       129\n",
      "\n",
      "    accuracy                           0.84       838\n",
      "   macro avg       0.81      0.80      0.79       838\n",
      "weighted avg       0.85      0.84      0.84       838\n",
      "\n",
      "\t Weighted F1 (no random): 0.7547869267220005\n",
      "[[ 83   4  16  33]\n",
      " [  2 119   7  17]\n",
      " [  6  23 386  13]\n",
      " [  6   4   6 113]]\n",
      "evaluate on en\n",
      "              precision    recall  f1-score   support\n",
      "\n",
      "         ANT       0.48      0.38      0.42       308\n",
      "         HYP       0.41      0.42      0.41       292\n",
      "      RANDOM       0.77      0.71      0.74       877\n",
      "         SYN       0.38      0.55      0.45       259\n",
      "\n",
      "    accuracy                           0.58      1736\n",
      "   macro avg       0.51      0.52      0.51      1736\n",
      "weighted avg       0.60      0.58      0.58      1736\n",
      "\n",
      "\t Weighted F1 (no random): 0.42774524912317574\n",
      "[[116  24 103  65]\n",
      " [ 31 124  44  93]\n",
      " [ 74 106 622  75]\n",
      " [ 22  52  42 143]]\n",
      "evaluate on de\n",
      "              precision    recall  f1-score   support\n",
      "\n",
      "         ANT       0.38      0.29      0.33       275\n",
      "         HYP       0.36      0.32      0.34       294\n",
      "      RANDOM       0.75      0.69      0.72       786\n",
      "         SYN       0.33      0.52      0.40       272\n",
      "\n",
      "    accuracy                           0.53      1627\n",
      "   macro avg       0.45      0.46      0.45      1627\n",
      "weighted avg       0.55      0.53      0.53      1627\n",
      "\n",
      "\t Weighted F1 (no random): 0.35616834343218273\n",
      "[[ 80  38  75  82]\n",
      " [ 24  93  63 114]\n",
      " [ 69  80 546  91]\n",
      " [ 38  45  48 141]]\n",
      "\u001b[1m  Validation Loss All: 0.97\u001b[0m\n",
      "\n",
      "\u001b[1m======== Epoch 3 / 7 ========\u001b[0m\n",
      "\n",
      "  Average training loss: 0.87\n",
      "  Training epoch took: 0:02:52\n",
      "evaluate on all\n",
      "              precision    recall  f1-score   support\n",
      "\n",
      "         ANT       0.61      0.42      0.50       719\n",
      "         HYP       0.59      0.44      0.50       731\n",
      "      RANDOM       0.75      0.84      0.79      2091\n",
      "         SYN       0.44      0.54      0.48       660\n",
      "\n",
      "    accuracy                           0.65      4201\n",
      "   macro avg       0.60      0.56      0.57      4201\n",
      "weighted avg       0.65      0.65      0.64      4201\n",
      "\n",
      "\t Weighted F1 (no random): 0.49665186740720385\n",
      "[[ 305   39  236  139]\n",
      " [  35  321  186  189]\n",
      " [ 118   86 1765  122]\n",
      " [  40   97  169  354]]\n",
      "evaluate on zh\n",
      "              precision    recall  f1-score   support\n",
      "\n",
      "         ANT       0.82      0.73      0.77       136\n",
      "         HYP       0.91      0.80      0.85       145\n",
      "      RANDOM       0.93      0.93      0.93       428\n",
      "         SYN       0.69      0.86      0.77       129\n",
      "\n",
      "    accuracy                           0.87       838\n",
      "   macro avg       0.84      0.83      0.83       838\n",
      "weighted avg       0.87      0.87      0.87       838\n",
      "\n",
      "\t Weighted F1 (no random): 0.7990626700638204\n",
      "[[ 99   2  13  22]\n",
      " [  6 116   9  14]\n",
      " [  8   7 399  14]\n",
      " [  7   2   9 111]]\n",
      "evaluate on en\n",
      "              precision    recall  f1-score   support\n",
      "\n",
      "         ANT       0.59      0.39      0.47       308\n",
      "         HYP       0.48      0.39      0.43       292\n",
      "      RANDOM       0.74      0.82      0.78       877\n",
      "         SYN       0.39      0.49      0.43       259\n",
      "\n",
      "    accuracy                           0.62      1736\n",
      "   macro avg       0.55      0.52      0.53      1736\n",
      "weighted avg       0.62      0.62      0.61      1736\n",
      "\n",
      "\t Weighted F1 (no random): 0.4448649006530869\n",
      "[[119  20 113  56]\n",
      " [ 15 113  73  91]\n",
      " [ 53  48 720  56]\n",
      " [ 13  53  65 128]]\n",
      "evaluate on de\n",
      "              precision    recall  f1-score   support\n",
      "\n",
      "         ANT       0.49      0.32      0.38       275\n",
      "         HYP       0.51      0.31      0.39       294\n",
      "      RANDOM       0.68      0.82      0.74       786\n",
      "         SYN       0.37      0.42      0.39       272\n",
      "\n",
      "    accuracy                           0.58      1627\n",
      "   macro avg       0.51      0.47      0.48      1627\n",
      "weighted avg       0.56      0.58      0.56      1627\n",
      "\n",
      "\t Weighted F1 (no random): 0.38810878188776454\n",
      "[[ 87  17 110  61]\n",
      " [ 14  92 104  84]\n",
      " [ 57  31 646  52]\n",
      " [ 20  42  95 115]]\n",
      "\u001b[1m  Validation Loss All: 0.88\u001b[0m\n",
      "\n",
      "\u001b[1m======== Epoch 4 / 7 ========\u001b[0m\n",
      "\n",
      "  Average training loss: 0.76\n",
      "  Training epoch took: 0:02:52\n",
      "evaluate on all\n",
      "              precision    recall  f1-score   support\n",
      "\n",
      "         ANT       0.57      0.53      0.55       719\n",
      "         HYP       0.52      0.53      0.52       731\n",
      "      RANDOM       0.77      0.83      0.80      2091\n",
      "         SYN       0.49      0.41      0.45       660\n",
      "\n",
      "    accuracy                           0.66      4201\n",
      "   macro avg       0.59      0.57      0.58      4201\n",
      "weighted avg       0.65      0.66      0.65      4201\n",
      "\n",
      "\t Weighted F1 (no random): 0.5079433355646169\n",
      "[[ 379   52  217   71]\n",
      " [  62  386  154  129]\n",
      " [ 142  140 1729   80]\n",
      " [  80  165  145  270]]\n",
      "evaluate on zh\n",
      "              precision    recall  f1-score   support\n",
      "\n",
      "         ANT       0.84      0.82      0.83       136\n",
      "         HYP       0.90      0.81      0.85       145\n",
      "      RANDOM       0.93      0.93      0.93       428\n",
      "         SYN       0.75      0.84      0.79       129\n",
      "\n",
      "    accuracy                           0.88       838\n",
      "   macro avg       0.85      0.85      0.85       838\n",
      "weighted avg       0.88      0.88      0.88       838\n",
      "\n",
      "\t Weighted F1 (no random): 0.8255445512030877\n",
      "[[112   1  13  10]\n",
      " [  6 117   8  14]\n",
      " [  7   9 399  13]\n",
      " [  9   3   8 109]]\n",
      "evaluate on en\n",
      "              precision    recall  f1-score   support\n",
      "\n",
      "         ANT       0.55      0.49      0.52       308\n",
      "         HYP       0.44      0.49      0.46       292\n",
      "      RANDOM       0.76      0.82      0.79       877\n",
      "         SYN       0.42      0.32      0.36       259\n",
      "\n",
      "    accuracy                           0.63      1736\n",
      "   macro avg       0.54      0.53      0.53      1736\n",
      "weighted avg       0.62      0.63      0.62      1736\n",
      "\n",
      "\t Weighted F1 (no random): 0.4527289252403182\n",
      "[[151  24 107  26]\n",
      " [ 30 142  61  59]\n",
      " [ 62  71 715  29]\n",
      " [ 32  85  59  83]]\n",
      "evaluate on de\n",
      "              precision    recall  f1-score   support\n",
      "\n",
      "         ANT       0.46      0.42      0.44       275\n",
      "         HYP       0.44      0.43      0.43       294\n",
      "      RANDOM       0.70      0.78      0.74       786\n",
      "         SYN       0.38      0.29      0.33       272\n",
      "\n",
      "    accuracy                           0.58      1627\n",
      "   macro avg       0.49      0.48      0.48      1627\n",
      "weighted avg       0.56      0.58      0.56      1627\n",
      "\n",
      "\t Weighted F1 (no random): 0.40052407625843633\n",
      "[[116  27  97  35]\n",
      " [ 26 127  85  56]\n",
      " [ 73  60 615  38]\n",
      " [ 39  77  78  78]]\n",
      "\u001b[1m  Validation Loss All: 0.88\u001b[0m\n",
      "\n",
      "\u001b[1m======== Epoch 5 / 7 ========\u001b[0m\n",
      "\n",
      "  Average training loss: 0.67\n",
      "  Training epoch took: 0:02:52\n",
      "evaluate on all\n",
      "              precision    recall  f1-score   support\n",
      "\n",
      "         ANT       0.59      0.51      0.55       719\n",
      "         HYP       0.50      0.57      0.53       731\n",
      "      RANDOM       0.79      0.82      0.81      2091\n",
      "         SYN       0.51      0.43      0.47       660\n",
      "\n",
      "    accuracy                           0.67      4201\n",
      "   macro avg       0.60      0.59      0.59      4201\n",
      "weighted avg       0.66      0.67      0.66      4201\n",
      "\n",
      "\t Weighted F1 (no random): 0.5189183911142061\n",
      "[[ 370   79  200   70]\n",
      " [  51  417  144  119]\n",
      " [ 137  147 1723   84]\n",
      " [  70  185  120  285]]\n",
      "evaluate on zh\n",
      "              precision    recall  f1-score   support\n",
      "\n",
      "         ANT       0.82      0.82      0.82       136\n",
      "         HYP       0.83      0.85      0.84       145\n",
      "      RANDOM       0.93      0.95      0.94       428\n",
      "         SYN       0.84      0.76      0.80       129\n",
      "\n",
      "    accuracy                           0.88       838\n",
      "   macro avg       0.86      0.85      0.85       838\n",
      "weighted avg       0.88      0.88      0.88       838\n",
      "\n",
      "\t Weighted F1 (no random): 0.8207964161274266\n",
      "[[112   5  13   6]\n",
      " [  6 123   9   7]\n",
      " [  8   9 406   5]\n",
      " [ 10  12   9  98]]\n",
      "evaluate on en\n",
      "              precision    recall  f1-score   support\n",
      "\n",
      "         ANT       0.57      0.50      0.53       308\n",
      "         HYP       0.44      0.53      0.48       292\n",
      "      RANDOM       0.78      0.80      0.79       877\n",
      "         SYN       0.43      0.36      0.39       259\n",
      "\n",
      "    accuracy                           0.64      1736\n",
      "   macro avg       0.56      0.55      0.55      1736\n",
      "weighted avg       0.63      0.64      0.63      1736\n",
      "\n",
      "\t Weighted F1 (no random): 0.4719665419813136\n",
      "[[153  32  93  30]\n",
      " [ 23 156  55  58]\n",
      " [ 67  71 703  36]\n",
      " [ 25  93  49  92]]\n",
      "evaluate on de\n",
      "              precision    recall  f1-score   support\n",
      "\n",
      "         ANT       0.47      0.38      0.42       275\n",
      "         HYP       0.42      0.47      0.44       294\n",
      "      RANDOM       0.72      0.78      0.75       786\n",
      "         SYN       0.42      0.35      0.38       272\n",
      "\n",
      "    accuracy                           0.59      1627\n",
      "   macro avg       0.51      0.50      0.50      1627\n",
      "weighted avg       0.57      0.59      0.58      1627\n",
      "\n",
      "\t Weighted F1 (no random): 0.4163772057005051\n",
      "[[105  42  94  34]\n",
      " [ 22 138  80  54]\n",
      " [ 62  67 614  43]\n",
      " [ 35  80  62  95]]\n",
      "\u001b[1m  Validation Loss All: 0.93\u001b[0m\n",
      "\n",
      "\u001b[1m======== Epoch 6 / 7 ========\u001b[0m\n",
      "\n",
      "  Average training loss: 0.61\n",
      "  Training epoch took: 0:02:52\n",
      "evaluate on all\n",
      "              precision    recall  f1-score   support\n",
      "\n",
      "         ANT       0.60      0.51      0.55       719\n",
      "         HYP       0.54      0.56      0.55       731\n",
      "      RANDOM       0.77      0.84      0.81      2091\n",
      "         SYN       0.50      0.43      0.46       660\n",
      "\n",
      "    accuracy                           0.67      4201\n",
      "   macro avg       0.60      0.58      0.59      4201\n",
      "weighted avg       0.66      0.67      0.66      4201\n",
      "\n",
      "\t Weighted F1 (no random): 0.5227786963019768\n",
      "[[ 369   63  219   68]\n",
      " [  44  409  153  125]\n",
      " [ 126  127 1753   85]\n",
      " [  78  162  138  282]]\n",
      "evaluate on zh\n",
      "              precision    recall  f1-score   support\n",
      "\n",
      "         ANT       0.81      0.83      0.82       136\n",
      "         HYP       0.85      0.85      0.85       145\n",
      "      RANDOM       0.93      0.95      0.94       428\n",
      "         SYN       0.84      0.77      0.80       129\n",
      "\n",
      "    accuracy                           0.89       838\n",
      "   macro avg       0.86      0.85      0.85       838\n",
      "weighted avg       0.88      0.89      0.88       838\n",
      "\n",
      "\t Weighted F1 (no random): 0.8248199502679605\n",
      "[[113   4  13   6]\n",
      " [  6 123   8   8]\n",
      " [  7   9 407   5]\n",
      " [ 13   9   8  99]]\n",
      "evaluate on en\n",
      "              precision    recall  f1-score   support\n",
      "\n",
      "         ANT       0.57      0.49      0.53       308\n",
      "         HYP       0.47      0.50      0.49       292\n",
      "      RANDOM       0.77      0.81      0.79       877\n",
      "         SYN       0.43      0.38      0.40       259\n",
      "\n",
      "    accuracy                           0.64      1736\n",
      "   macro avg       0.56      0.55      0.55      1736\n",
      "weighted avg       0.63      0.64      0.63      1736\n",
      "\n",
      "\t Weighted F1 (no random): 0.4762121798502134\n",
      "[[152  25 101  30]\n",
      " [ 20 147  59  66]\n",
      " [ 65  65 711  36]\n",
      " [ 29  75  57  98]]\n",
      "evaluate on de\n",
      "              precision    recall  f1-score   support\n",
      "\n",
      "         ANT       0.49      0.38      0.43       275\n",
      "         HYP       0.46      0.47      0.46       294\n",
      "      RANDOM       0.71      0.81      0.75       786\n",
      "         SYN       0.40      0.31      0.35       272\n",
      "\n",
      "    accuracy                           0.59      1627\n",
      "   macro avg       0.51      0.49      0.50      1627\n",
      "weighted avg       0.57      0.59      0.58      1627\n",
      "\n",
      "\t Weighted F1 (no random): 0.41577476115920653\n",
      "[[104  34 105  32]\n",
      " [ 18 139  86  51]\n",
      " [ 54  53 635  44]\n",
      " [ 36  78  73  85]]\n",
      "\u001b[1m  Validation Loss All: 0.93\u001b[0m\n",
      "\n",
      "\u001b[1m======== Epoch 7 / 7 ========\u001b[0m\n",
      "\n",
      "  Average training loss: 0.56\n",
      "  Training epoch took: 0:02:52\n",
      "evaluate on all\n",
      "              precision    recall  f1-score   support\n",
      "\n",
      "         ANT       0.61      0.53      0.56       719\n",
      "         HYP       0.56      0.54      0.55       731\n",
      "      RANDOM       0.79      0.82      0.81      2091\n",
      "         SYN       0.47      0.52      0.49       660\n",
      "\n",
      "    accuracy                           0.67      4201\n",
      "   macro avg       0.61      0.60      0.60      4201\n",
      "weighted avg       0.67      0.67      0.67      4201\n",
      "\n",
      "\t Weighted F1 (no random): 0.5369758154649746\n",
      "[[ 380   56  191   92]\n",
      " [  42  395  134  160]\n",
      " [ 138  119 1707  127]\n",
      " [  67  137  116  340]]\n",
      "evaluate on zh\n",
      "              precision    recall  f1-score   support\n",
      "\n",
      "         ANT       0.83      0.84      0.83       136\n",
      "         HYP       0.87      0.84      0.86       145\n",
      "      RANDOM       0.94      0.94      0.94       428\n",
      "         SYN       0.82      0.82      0.82       129\n",
      "\n",
      "    accuracy                           0.89       838\n",
      "   macro avg       0.86      0.86      0.86       838\n",
      "weighted avg       0.89      0.89      0.89       838\n",
      "\n",
      "\t Weighted F1 (no random): 0.8363389455600133\n",
      "[[114   3  10   9]\n",
      " [  6 122   9   8]\n",
      " [  8  10 403   7]\n",
      " [ 10   5   8 106]]\n",
      "evaluate on en\n",
      "              precision    recall  f1-score   support\n",
      "\n",
      "         ANT       0.59      0.50      0.54       308\n",
      "         HYP       0.47      0.47      0.47       292\n",
      "      RANDOM       0.78      0.80      0.79       877\n",
      "         SYN       0.41      0.46      0.43       259\n",
      "\n",
      "    accuracy                           0.64      1736\n",
      "   macro avg       0.57      0.56      0.56      1736\n",
      "weighted avg       0.64      0.64      0.64      1736\n",
      "\n",
      "\t Weighted F1 (no random): 0.48586880489148015\n",
      "[[153  24  92  39]\n",
      " [ 16 138  53  85]\n",
      " [ 67  60 701  49]\n",
      " [ 22  69  48 120]]\n",
      "evaluate on de\n",
      "              precision    recall  f1-score   support\n",
      "\n",
      "         ANT       0.49      0.41      0.45       275\n",
      "         HYP       0.49      0.46      0.47       294\n",
      "      RANDOM       0.73      0.77      0.75       786\n",
      "         SYN       0.39      0.42      0.40       272\n",
      "\n",
      "    accuracy                           0.59      1627\n",
      "   macro avg       0.52      0.51      0.52      1627\n",
      "weighted avg       0.59      0.59      0.59      1627\n",
      "\n",
      "\t Weighted F1 (no random): 0.44146533108538394\n",
      "[[113  29  89  44]\n",
      " [ 20 135  72  67]\n",
      " [ 63  49 603  71]\n",
      " [ 35  63  60 114]]\n",
      "\u001b[1m  Validation Loss All: 0.98\u001b[0m\n",
      "\n",
      "\n",
      "Training complete!\n",
      "Total training took 0:23:41 (h:mm:ss)\n"
     ]
    }
   ],
   "source": [
    "# start training\n",
    "validation_dataloader_set=[validation_dataloader_all, validation_dataloader_zh, validation_dataloader_en, validation_dataloader_de]\n",
    "training_stats=train_model(epochs=epochs, \n",
    "                           xlmr_model=xlmr_model, \n",
    "                           train_dataloader=train_dataloader, \n",
    "                           validation_dataloader_set=validation_dataloader_set,\n",
    "                           random_seed=42,\n",
    "                           verbose=True)  "
   ]
  },
  {
   "cell_type": "markdown",
   "metadata": {
    "id": "-fjiw0rymj7U"
   },
   "source": [
    "# Evaluation Statistics"
   ]
  },
  {
   "cell_type": "code",
   "execution_count": null,
   "metadata": {
    "colab": {
     "base_uri": "https://localhost:8080/",
     "height": 331
    },
    "id": "ICm4zOH-Q5p2",
    "outputId": "aa1fbb7d-e97e-42ae-9ab2-35821dc0673c"
   },
   "outputs": [
    {
     "data": {
      "text/html": [
       "<div>\n",
       "<style scoped>\n",
       "    .dataframe tbody tr th:only-of-type {\n",
       "        vertical-align: middle;\n",
       "    }\n",
       "\n",
       "    .dataframe tbody tr th {\n",
       "        vertical-align: top;\n",
       "    }\n",
       "\n",
       "    .dataframe thead th {\n",
       "        text-align: right;\n",
       "    }\n",
       "</style>\n",
       "<table border=\"1\" class=\"dataframe\">\n",
       "  <thead>\n",
       "    <tr style=\"text-align: right;\">\n",
       "      <th></th>\n",
       "      <th>Training Loss</th>\n",
       "      <th>Valid. Loss all</th>\n",
       "      <th>Valid. Accur. all</th>\n",
       "      <th>Weigh_F1 all (no random)</th>\n",
       "      <th>Macro F1 all</th>\n",
       "      <th>Weigh_F1 en</th>\n",
       "      <th>Weigh_F1 de</th>\n",
       "      <th>Weigh_F1 zh</th>\n",
       "      <th>Training Time</th>\n",
       "    </tr>\n",
       "    <tr>\n",
       "      <th>epoch</th>\n",
       "      <th></th>\n",
       "      <th></th>\n",
       "      <th></th>\n",
       "      <th></th>\n",
       "      <th></th>\n",
       "      <th></th>\n",
       "      <th></th>\n",
       "      <th></th>\n",
       "      <th></th>\n",
       "    </tr>\n",
       "  </thead>\n",
       "  <tbody>\n",
       "    <tr>\n",
       "      <th>1</th>\n",
       "      <td>1.24</td>\n",
       "      <td>1.11</td>\n",
       "      <td>0.54</td>\n",
       "      <td>0.26</td>\n",
       "      <td>0.38</td>\n",
       "      <td>0.23</td>\n",
       "      <td>0.21</td>\n",
       "      <td>0.35</td>\n",
       "      <td>0:02:49</td>\n",
       "    </tr>\n",
       "    <tr>\n",
       "      <th>2</th>\n",
       "      <td>1.03</td>\n",
       "      <td>0.97</td>\n",
       "      <td>0.61</td>\n",
       "      <td>0.46</td>\n",
       "      <td>0.54</td>\n",
       "      <td>0.43</td>\n",
       "      <td>0.36</td>\n",
       "      <td>0.75</td>\n",
       "      <td>0:02:52</td>\n",
       "    </tr>\n",
       "    <tr>\n",
       "      <th>3</th>\n",
       "      <td>0.87</td>\n",
       "      <td>0.88</td>\n",
       "      <td>0.65</td>\n",
       "      <td>0.50</td>\n",
       "      <td>0.57</td>\n",
       "      <td>0.44</td>\n",
       "      <td>0.39</td>\n",
       "      <td>0.80</td>\n",
       "      <td>0:02:52</td>\n",
       "    </tr>\n",
       "    <tr>\n",
       "      <th>4</th>\n",
       "      <td>0.76</td>\n",
       "      <td>0.88</td>\n",
       "      <td>0.66</td>\n",
       "      <td>0.51</td>\n",
       "      <td>0.58</td>\n",
       "      <td>0.45</td>\n",
       "      <td>0.40</td>\n",
       "      <td>0.83</td>\n",
       "      <td>0:02:52</td>\n",
       "    </tr>\n",
       "    <tr>\n",
       "      <th>5</th>\n",
       "      <td>0.67</td>\n",
       "      <td>0.93</td>\n",
       "      <td>0.67</td>\n",
       "      <td>0.52</td>\n",
       "      <td>0.59</td>\n",
       "      <td>0.47</td>\n",
       "      <td>0.42</td>\n",
       "      <td>0.82</td>\n",
       "      <td>0:02:52</td>\n",
       "    </tr>\n",
       "    <tr>\n",
       "      <th>6</th>\n",
       "      <td>0.61</td>\n",
       "      <td>0.93</td>\n",
       "      <td>0.67</td>\n",
       "      <td>0.52</td>\n",
       "      <td>0.59</td>\n",
       "      <td>0.48</td>\n",
       "      <td>0.42</td>\n",
       "      <td>0.82</td>\n",
       "      <td>0:02:52</td>\n",
       "    </tr>\n",
       "    <tr>\n",
       "      <th>7</th>\n",
       "      <td>0.56</td>\n",
       "      <td>0.98</td>\n",
       "      <td>0.67</td>\n",
       "      <td>0.54</td>\n",
       "      <td>0.60</td>\n",
       "      <td>0.49</td>\n",
       "      <td>0.44</td>\n",
       "      <td>0.84</td>\n",
       "      <td>0:02:52</td>\n",
       "    </tr>\n",
       "  </tbody>\n",
       "</table>\n",
       "</div>"
      ],
      "text/plain": [
       "       Training Loss  Valid. Loss all  ...  Weigh_F1 zh  Training Time\n",
       "epoch                                  ...                            \n",
       "1               1.24             1.11  ...         0.35        0:02:49\n",
       "2               1.03             0.97  ...         0.75        0:02:52\n",
       "3               0.87             0.88  ...         0.80        0:02:52\n",
       "4               0.76             0.88  ...         0.83        0:02:52\n",
       "5               0.67             0.93  ...         0.82        0:02:52\n",
       "6               0.61             0.93  ...         0.82        0:02:52\n",
       "7               0.56             0.98  ...         0.84        0:02:52\n",
       "\n",
       "[7 rows x 9 columns]"
      ]
     },
     "execution_count": 40,
     "metadata": {
      "tags": []
     },
     "output_type": "execute_result"
    }
   ],
   "source": [
    "# Table with training stats\n",
    "pd.set_option('precision', 2)\n",
    "df_stats = pd.DataFrame(data=training_stats)\n",
    "df_stats = df_stats.set_index('epoch')\n",
    "df_stats"
   ]
  },
  {
   "cell_type": "code",
   "execution_count": null,
   "metadata": {
    "colab": {
     "base_uri": "https://localhost:8080/",
     "height": 418
    },
    "id": "lXGHvyQMQ8vB",
    "outputId": "d7dbf0fa-2630-4b36-d8fb-6bde207f5d0b"
   },
   "outputs": [
    {
     "data": {
      "image/png": "[encoded data removed]",
      "text/plain": [
       "<Figure size 864x432 with 1 Axes>"
      ]
     },
     "metadata": {
      "tags": []
     },
     "output_type": "display_data"
    }
   ],
   "source": [
    "# Plot Trainingloss, Validation loss and Weighted F1 score for each epoch\n",
    "\n",
    "sns.set(style='darkgrid')\n",
    "sns.set(font_scale=1.5)\n",
    "plt.rcParams[\"figure.figsize\"] = (12,6)\n",
    "plt.plot(df_stats['Training Loss'], 'b-o', label=\"Training\")\n",
    "plt.plot(df_stats['Valid. Loss all'], 'g-o', label=\"Validation\")\n",
    "plt.plot(df_stats['Weigh_F1 all (no random)'], 'r-o', label=\"Weighted F1 (all, no rand)\")\n",
    "plt.title(\"Training & Validation Loss\")\n",
    "plt.xlabel(\"Epoch\")\n",
    "plt.ylabel(\"Loss\")\n",
    "plt.legend()\n",
    "plt.show()"
   ]
  },
  {
   "cell_type": "code",
   "execution_count": null,
   "metadata": {
    "id": "vzwvY1JTfjv2"
   },
   "outputs": [],
   "source": [
    "# save model\n",
    "#PATH = \"xlmr_model2409.pt\"\n",
    "#torch.save(xlmr_model, PATH)"
   ]
  },
  {
   "cell_type": "code",
   "execution_count": null,
   "metadata": {
    "id": "aMlqA-L-gZum"
   },
   "outputs": [],
   "source": [
    "#load\n",
    "PATH = \"xlmr_model2409.pt\"\n",
    "xlmr_model=torch.load(PATH)"
   ]
  },
  {
   "cell_type": "markdown",
   "metadata": {
    "id": "Q12682pRYiFF"
   },
   "source": [
    "# CogALex Evaluation "
   ]
  },
  {
   "cell_type": "code",
   "execution_count": null,
   "metadata": {
    "id": "vFcYm817535q"
   },
   "outputs": [],
   "source": [
    "# read in test data\n",
    "test_data_zh = pd.read_csv('data/test/test_chinese_data.txt', sep=\"\\t\", header=None)\n",
    "test_data_zh.columns = [\"Word1\", \"Word2\"]\n",
    "\n",
    "test_data_de = pd.read_csv('data/test/test_german_data.txt', sep=\"\\t\", header=None)\n",
    "test_data_de.columns = [\"Word1\", \"Word2\"]\n",
    "\n",
    "test_data_en = pd.read_csv('data/test/test_english_data.txt', sep=\"\\t\", header=None)\n",
    "test_data_en.columns = [\"Word1\", \"Word2\"]\n",
    "\n",
    "test_data_it = pd.read_csv('data/test/test_italian_data.txt', sep=\"\\t\", header=None)\n",
    "test_data_it.columns = [\"Word1\", \"Word2\"]"
   ]
  },
  {
   "cell_type": "code",
   "execution_count": null,
   "metadata": {
    "id": "G52kBcg8YlVL"
   },
   "outputs": [],
   "source": [
    "# annotates a file that was already parsed to a dataframe (uses tokenizer from before)\n",
    "\n",
    "def annotate_test_data(test_data, output_file_name):\n",
    "  file = open(output_file_name,\"w\") \n",
    "  for index, row in test_data.iterrows():\n",
    "      word1=row[\"Word1\"]\n",
    "      word2=row[\"Word2\"]  \n",
    "      encoded_dict = xlmr_tokenizer.encode_plus(word1, word2, \n",
    "                                                  max_length=max_len, \n",
    "                                                  padding='max_length',\n",
    "                                                  truncation=True, \n",
    "                                                  return_tensors='pt') \n",
    "      input_id=encoded_dict['input_ids'].to(device)\n",
    "      attn_mask=encoded_dict['attention_mask'].to(device)\n",
    "      label=torch.tensor(0).to(device)                    #0=antonym, 1=hypony, 2=random, 3=synonym\n",
    "      (loss, logits) = xlmr_model(input_id, \n",
    "                                    token_type_ids=None, \n",
    "                                    attention_mask=attn_mask,\n",
    "                                    labels=label)\n",
    "      logits = logits.detach().cpu().numpy()\n",
    "\n",
    "      #write to file \n",
    "      file.write(word1+\"\\t\"+word2+\"\\t\"+labels[logits[0].argmax(axis=0)]+\"\\n\") \n",
    "  file.close() "
   ]
  },
  {
   "cell_type": "code",
   "execution_count": null,
   "metadata": {
    "id": "Gzjd8BSd57cT"
   },
   "outputs": [],
   "source": [
    "#annotate the unlabeled test sets\n",
    "annotate_test_data(test_data_it, \"xlmr_it_annotated.txt\")\n",
    "annotate_test_data(test_data_zh, \"xlmr_zh_annotated.txt\")\n",
    "annotate_test_data(test_data_en, \"xlmr_en_annotated.txt\")\n",
    "annotate_test_data(test_data_de, \"xlmr_de_annotated.txt\")"
   ]
  },
  {
   "cell_type": "code",
   "execution_count": null,
   "metadata": {
    "colab": {
     "base_uri": "https://localhost:8080/",
     "height": 153
    },
    "id": "lTRGaSP9-fB4",
    "outputId": "20ee8931-038c-4113-ef6d-9aba03baf08c"
   },
   "outputs": [
    {
     "name": "stdout",
     "output_type": "stream",
     "text": [
      "validgold_chinese_data.txt\n",
      "valid_chinese_xlmr.txt\n",
      "Loading the datasets ...\n",
      "Evaluating ...\n",
      "      SYN:  P = 0.862  R = 0.822  F1 = 0.841  sup = 129\n",
      "      HYP:  P = 0.938  R = 0.841  F1 = 0.887  sup = 145\n",
      "      ANT:  P = 0.877  R = 0.838  F1 = 0.857  sup = 136\n",
      "Overall:  P = 0.894  R = 0.834  F1 = 0.863\n"
     ]
    }
   ],
   "source": [
    "#zh\n",
    "annotate_test_data(data_valid_zh, \"valid_chinese_xlmr.txt\")\n",
    "#first arg: gold standard file, second arg: our results\n",
    "! python evaluation_grade.py validgold_chinese_data.txt valid_chinese_xlmr.txt"
   ]
  },
  {
   "cell_type": "code",
   "execution_count": null,
   "metadata": {
    "colab": {
     "base_uri": "https://localhost:8080/",
     "height": 153
    },
    "id": "ovje4QmYlGCN",
    "outputId": "4865ae21-420e-4cc5-812d-493cabea62ba"
   },
   "outputs": [
    {
     "name": "stdout",
     "output_type": "stream",
     "text": [
      "validgold_english_data.txt\n",
      "valid_english_xlmr.txt\n",
      "Loading the datasets ...\n",
      "Evaluating ...\n",
      "      SYN:  P = 0.492  R = 0.463  F1 = 0.477  sup = 259\n",
      "      HYP:  P = 0.597  R = 0.473  F1 = 0.528  sup = 292\n",
      "      ANT:  P = 0.801  R = 0.497  F1 = 0.613  sup = 308\n",
      "Overall:  P = 0.639  R = 0.478  F1 = 0.543\n"
     ]
    }
   ],
   "source": [
    "#en\n",
    "annotate_test_data(data_valid_en, \"valid_english_xlmr.txt\")\n",
    "! python evaluation_grade.py validgold_english_data.txt valid_english_xlmr.txt"
   ]
  },
  {
   "cell_type": "code",
   "execution_count": null,
   "metadata": {
    "colab": {
     "base_uri": "https://localhost:8080/",
     "height": 153
    },
    "id": "sP28N7uJlGLO",
    "outputId": "efabb2fb-be83-4b56-ea31-37fa83a360d2"
   },
   "outputs": [
    {
     "name": "stdout",
     "output_type": "stream",
     "text": [
      "validgold_german_data.txt\n",
      "valid_german_xlmr.txt\n",
      "Loading the datasets ...\n",
      "Evaluating ...\n",
      "      SYN:  P = 0.507  R = 0.419  F1 = 0.459  sup = 272\n",
      "      HYP:  P = 0.595  R = 0.459  F1 = 0.518  sup = 294\n",
      "      ANT:  P = 0.673  R = 0.411  F1 = 0.510  sup = 275\n",
      "Overall:  P = 0.592  R = 0.430  F1 = 0.496\n"
     ]
    }
   ],
   "source": [
    "#de\n",
    "annotate_test_data(data_valid_de, \"valid_german_xlmr.txt\")\n",
    "! python evaluation_grade.py validgold_german_data.txt valid_german_xlmr.txt"
   ]
  },
  {
   "cell_type": "markdown",
   "metadata": {
    "id": "FueN-MqmmXGm"
   },
   "source": [
    "# GridSearch"
   ]
  },
  {
   "cell_type": "code",
   "execution_count": 20,
   "metadata": {
    "id": "yOyTujm7VY0A"
   },
   "outputs": [],
   "source": [
    "def create_model(lr, eps, train_dataloader, epochs):\n",
    "  xlmr_model = XLMRobertaForSequenceClassification.from_pretrained(\"xlm-roberta-base\", num_labels=4)\n",
    "  device = torch.device('cuda')\n",
    "  desc = xlmr_model.to(device)\n",
    "  optimizer = AdamW(xlmr_model.parameters(),\n",
    "                  lr = lr,   \n",
    "                  eps = eps       \n",
    "                )\n",
    "  total_steps = len(train_dataloader) * epochs\n",
    "  scheduler = get_linear_schedule_with_warmup(optimizer, \n",
    "                                            num_warmup_steps = 0,   \n",
    "                                            num_training_steps = total_steps)\n",
    "  return xlmr_model, optimizer, scheduler\n",
    "  \n"
   ]
  },
  {
   "cell_type": "code",
   "execution_count": 21,
   "metadata": {
    "colab": {
     "base_uri": "https://localhost:8080/"
    },
    "id": "h14K_Kt3jIRj",
    "outputId": "ac1c96a0-1652-463d-cea8-dd5724922197"
   },
   "outputs": [
    {
     "name": "stdout",
     "output_type": "stream",
     "text": [
      "Grid size: 3\n",
      "[{'batch_size': 32, 'epochs': 3, 'eps': 1e-08, 'lr': 2e-05, 'max_len': 64, 'model_name': 'xlm-roberta-base', 'random_seed': 42, 'warmup_steps': 0, 'weight_decay': 0}, {'batch_size': 32, 'epochs': 3, 'eps': 1e-08, 'lr': 1e-05, 'max_len': 64, 'model_name': 'xlm-roberta-base', 'random_seed': 42, 'warmup_steps': 0, 'weight_decay': 0}, {'batch_size': 32, 'epochs': 3, 'eps': 1e-08, 'lr': 2e-06, 'max_len': 64, 'model_name': 'xlm-roberta-base', 'random_seed': 42, 'warmup_steps': 0, 'weight_decay': 0}]\n"
     ]
    }
   ],
   "source": [
    "#parameters checked in gridsearch\n",
    "\n",
    "parameter_grid=list(ParameterGrid({\n",
    "    \"model_name\":[\"xlm-roberta-base\"],\n",
    "    \"batch_size\":[32], \n",
    "    \"lr\":[2e-5, 1e-5, 2e-6], \n",
    "    \"eps\":[1e-8], \n",
    "    \"max_len\":[64], \n",
    "    \"epochs\":[3], \n",
    "    \"warmup_steps\":[0],\n",
    "    \"weight_decay\":[0],\n",
    "    \"random_seed\": [42]\n",
    "    #\"number_samples\": [100,500,1000,5000,10000,12606]\n",
    "    }))\n",
    "\n",
    "print(\"Grid size:\",len(parameter_grid))\n",
    "print(parameter_grid)"
   ]
  },
  {
   "cell_type": "code",
   "execution_count": 22,
   "metadata": {
    "id": "kHV1TX4WjIRk"
   },
   "outputs": [],
   "source": [
    "def gridsearch(parameter_grid, data_train):\n",
    "\n",
    "  validation_dataloader_set=[validation_dataloader_all, validation_dataloader_zh, validation_dataloader_en, validation_dataloader_de]\n",
    "\n",
    "  print(\"Starting Gridsearch\")\n",
    "\n",
    "  results=[]\n",
    "\n",
    "  for i, parameters in enumerate(parameter_grid):\n",
    "\n",
    "    #number_samples=parameters[\"number_samples\"]\n",
    "    #data_train=data_train_all.sample(number_samples)\n",
    "\n",
    "    model_name=parameters[\"model_name\"]\n",
    "    batch_size=parameters[\"batch_size\"]\n",
    "    lr=parameters[\"lr\"]\n",
    "    eps=parameters[\"eps\"]\n",
    "    max_len=parameters[\"max_len\"]\n",
    "    epochs=parameters[\"epochs\"]\n",
    "    warmup_steps=parameters[\"warmup_steps\"]\n",
    "    random_seed=parameters[\"random_seed\"]\n",
    "\n",
    "    print(\"\\n\"+\"\\033[1m\"+\"============== Iteration \"+str(i+1)+\"/\"+str(len(parameter_grid))+\" ==============\"+\"\\033[0m\"+\"\\n\")\n",
    "    print(parameters)\n",
    "    print(\"length training data:\", len(data_train))\n",
    "    #print(data_train)\n",
    "    \n",
    "    # prepare chosen trainings data\n",
    "    xlmr_tokenizer = XLMRobertaTokenizer.from_pretrained(model_name)\n",
    "    input_ids_train, attn_masks_train, labels_train = tokenizer_xlm(data_train, max_len)\n",
    "    tensor_data_train = TensorDataset(input_ids_train, attn_masks_train, labels_train)\n",
    "    train_dataloader = DataLoader(\n",
    "                tensor_data_train,  \n",
    "                sampler = RandomSampler(tensor_data_train), \n",
    "                batch_size = batch_size \n",
    "            )\n",
    "\n",
    "    \n",
    "    # prepare model\n",
    "    xlmr_model, optimizer, scheduler = create_model(lr, eps, train_dataloader, epochs) \n",
    "\n",
    "    # train and save stats\n",
    "    training_stats=train_model( epochs=epochs, \n",
    "                                xlmr_model=xlmr_model, \n",
    "                                train_dataloader=train_dataloader, \n",
    "                                validation_dataloader_set=validation_dataloader_set,\n",
    "                                random_seed=random_seed,\n",
    "                                verbose = False) \n",
    "  \n",
    "    df_stats = pd.DataFrame(data=training_stats)\n",
    "\n",
    "    #parameters, valid loss, min valid lost, macro f1\n",
    "    results.append((parameters,\n",
    "                    training_stats[len(training_stats)-1][\"Valid. Loss all\"],\n",
    "                    min(df_stats[\"Valid. Loss all\"]),\n",
    "                    training_stats[len(training_stats)-1]['Weigh_F1 all (no random)']))\n",
    "  return results"
   ]
  },
  {
   "cell_type": "code",
   "execution_count": null,
   "metadata": {
    "id": "lYikFsUAa2rs"
   },
   "outputs": [],
   "source": [
    "# run gridsearch\n",
    "results = gridsearch(parameter_grid, data_train_all)"
   ]
  },
  {
   "cell_type": "code",
   "execution_count": null,
   "metadata": {
    "id": "MTxv3ep2y2qv"
   },
   "outputs": [],
   "source": [
    "# show results\n",
    "for r in results: print(r)"
   ]
  },
  {
   "cell_type": "code",
   "execution_count": null,
   "metadata": {
    "id": "HHqMu3-NBFjr"
   },
   "outputs": [],
   "source": [
    "# sort results by best \n",
    "sorted(results, key=lambda tup: tup[1])"
   ]
  }
 ],
 "metadata": {
  "accelerator": "GPU",
  "colab": {
   "collapsed_sections": [
    "Q12682pRYiFF"
   ],
   "include_colab_link": true,
   "name": "CogALex XLM RoBERTa - Updated Task Version",
   "provenance": []
  },
  "kernelspec": {
   "display_name": "Python 3",
   "language": "python",
   "name": "python3"
  },
  "language_info": {
   "codemirror_mode": {
    "name": "ipython",
    "version": 3
   },
   "file_extension": ".py",
   "mimetype": "text/x-python",
   "name": "python",
   "nbconvert_exporter": "python",
   "pygments_lexer": "ipython3",
   "version": "3.8.5"
  },
  "widgets": {
   "application/vnd.jupyter.widget-state+json": {
    "0bca7a6b07ac4b7f9980679b06dcb798": {
     "model_module": "@jupyter-widgets/base",
     "model_name": "LayoutModel",
     "state": {
      "_model_module": "@jupyter-widgets/base",
      "_model_module_version": "1.2.0",
      "_model_name": "LayoutModel",
      "_view_count": null,
      "_view_module": "@jupyter-widgets/base",
      "_view_module_version": "1.2.0",
      "_view_name": "LayoutView",
      "align_content": null,
      "align_items": null,
      "align_self": null,
      "border": null,
      "bottom": null,
      "display": null,
      "flex": null,
      "flex_flow": null,
      "grid_area": null,
      "grid_auto_columns": null,
      "grid_auto_flow": null,
      "grid_auto_rows": null,
      "grid_column": null,
      "grid_gap": null,
      "grid_row": null,
      "grid_template_areas": null,
      "grid_template_columns": null,
      "grid_template_rows": null,
      "height": null,
      "justify_content": null,
      "justify_items": null,
      "left": null,
      "margin": null,
      "max_height": null,
      "max_width": null,
      "min_height": null,
      "min_width": null,
      "object_fit": null,
      "object_position": null,
      "order": null,
      "overflow": null,
      "overflow_x": null,
      "overflow_y": null,
      "padding": null,
      "right": null,
      "top": null,
      "visibility": null,
      "width": null
     }
    },
    "0db3ca8db482422ca68db57d980c0643": {
     "model_module": "@jupyter-widgets/controls",
     "model_name": "ProgressStyleModel",
     "state": {
      "_model_module": "@jupyter-widgets/controls",
      "_model_module_version": "1.5.0",
      "_model_name": "ProgressStyleModel",
      "_view_count": null,
      "_view_module": "@jupyter-widgets/base",
      "_view_module_version": "1.2.0",
      "_view_name": "StyleView",
      "bar_color": null,
      "description_width": "initial"
     }
    },
    "3753df9760b643dba4e0aa54313b1689": {
     "model_module": "@jupyter-widgets/controls",
     "model_name": "FloatProgressModel",
     "state": {
      "_dom_classes": [],
      "_model_module": "@jupyter-widgets/controls",
      "_model_module_version": "1.5.0",
      "_model_name": "FloatProgressModel",
      "_view_count": null,
      "_view_module": "@jupyter-widgets/controls",
      "_view_module_version": "1.5.0",
      "_view_name": "ProgressView",
      "bar_style": "success",
      "description": "Downloading: 100%",
      "description_tooltip": null,
      "layout": "IPY_MODEL_5bca0b4663d3475fb9ca4793783b2130",
      "max": 5069051,
      "min": 0,
      "orientation": "horizontal",
      "style": "IPY_MODEL_0db3ca8db482422ca68db57d980c0643",
      "value": 5069051
     }
    },
    "392d1b126ea549fea9b77e317929b5c9": {
     "model_module": "@jupyter-widgets/base",
     "model_name": "LayoutModel",
     "state": {
      "_model_module": "@jupyter-widgets/base",
      "_model_module_version": "1.2.0",
      "_model_name": "LayoutModel",
      "_view_count": null,
      "_view_module": "@jupyter-widgets/base",
      "_view_module_version": "1.2.0",
      "_view_name": "LayoutView",
      "align_content": null,
      "align_items": null,
      "align_self": null,
      "border": null,
      "bottom": null,
      "display": null,
      "flex": null,
      "flex_flow": null,
      "grid_area": null,
      "grid_auto_columns": null,
      "grid_auto_flow": null,
      "grid_auto_rows": null,
      "grid_column": null,
      "grid_gap": null,
      "grid_row": null,
      "grid_template_areas": null,
      "grid_template_columns": null,
      "grid_template_rows": null,
      "height": null,
      "justify_content": null,
      "justify_items": null,
      "left": null,
      "margin": null,
      "max_height": null,
      "max_width": null,
      "min_height": null,
      "min_width": null,
      "object_fit": null,
      "object_position": null,
      "order": null,
      "overflow": null,
      "overflow_x": null,
      "overflow_y": null,
      "padding": null,
      "right": null,
      "top": null,
      "visibility": null,
      "width": null
     }
    },
    "3b82354faba14c37bc6419d1d033df03": {
     "model_module": "@jupyter-widgets/controls",
     "model_name": "ProgressStyleModel",
     "state": {
      "_model_module": "@jupyter-widgets/controls",
      "_model_module_version": "1.5.0",
      "_model_name": "ProgressStyleModel",
      "_view_count": null,
      "_view_module": "@jupyter-widgets/base",
      "_view_module_version": "1.2.0",
      "_view_name": "StyleView",
      "bar_color": null,
      "description_width": "initial"
     }
    },
    "55513c30e3194e5b8b98793776098b14": {
     "model_module": "@jupyter-widgets/controls",
     "model_name": "FloatProgressModel",
     "state": {
      "_dom_classes": [],
      "_model_module": "@jupyter-widgets/controls",
      "_model_module_version": "1.5.0",
      "_model_name": "FloatProgressModel",
      "_view_count": null,
      "_view_module": "@jupyter-widgets/controls",
      "_view_module_version": "1.5.0",
      "_view_name": "ProgressView",
      "bar_style": "success",
      "description": "Downloading: 100%",
      "description_tooltip": null,
      "layout": "IPY_MODEL_9fcfd2bc25434ab1b3b478f6528c577b",
      "max": 1115590446,
      "min": 0,
      "orientation": "horizontal",
      "style": "IPY_MODEL_3b82354faba14c37bc6419d1d033df03",
      "value": 1115590446
     }
    },
    "5bca0b4663d3475fb9ca4793783b2130": {
     "model_module": "@jupyter-widgets/base",
     "model_name": "LayoutModel",
     "state": {
      "_model_module": "@jupyter-widgets/base",
      "_model_module_version": "1.2.0",
      "_model_name": "LayoutModel",
      "_view_count": null,
      "_view_module": "@jupyter-widgets/base",
      "_view_module_version": "1.2.0",
      "_view_name": "LayoutView",
      "align_content": null,
      "align_items": null,
      "align_self": null,
      "border": null,
      "bottom": null,
      "display": null,
      "flex": null,
      "flex_flow": null,
      "grid_area": null,
      "grid_auto_columns": null,
      "grid_auto_flow": null,
      "grid_auto_rows": null,
      "grid_column": null,
      "grid_gap": null,
      "grid_row": null,
      "grid_template_areas": null,
      "grid_template_columns": null,
      "grid_template_rows": null,
      "height": null,
      "justify_content": null,
      "justify_items": null,
      "left": null,
      "margin": null,
      "max_height": null,
      "max_width": null,
      "min_height": null,
      "min_width": null,
      "object_fit": null,
      "object_position": null,
      "order": null,
      "overflow": null,
      "overflow_x": null,
      "overflow_y": null,
      "padding": null,
      "right": null,
      "top": null,
      "visibility": null,
      "width": null
     }
    },
    "745bdbc2dd454163bc3de08b80a19806": {
     "model_module": "@jupyter-widgets/controls",
     "model_name": "DescriptionStyleModel",
     "state": {
      "_model_module": "@jupyter-widgets/controls",
      "_model_module_version": "1.5.0",
      "_model_name": "DescriptionStyleModel",
      "_view_count": null,
      "_view_module": "@jupyter-widgets/base",
      "_view_module_version": "1.2.0",
      "_view_name": "StyleView",
      "description_width": ""
     }
    },
    "9fcfd2bc25434ab1b3b478f6528c577b": {
     "model_module": "@jupyter-widgets/base",
     "model_name": "LayoutModel",
     "state": {
      "_model_module": "@jupyter-widgets/base",
      "_model_module_version": "1.2.0",
      "_model_name": "LayoutModel",
      "_view_count": null,
      "_view_module": "@jupyter-widgets/base",
      "_view_module_version": "1.2.0",
      "_view_name": "LayoutView",
      "align_content": null,
      "align_items": null,
      "align_self": null,
      "border": null,
      "bottom": null,
      "display": null,
      "flex": null,
      "flex_flow": null,
      "grid_area": null,
      "grid_auto_columns": null,
      "grid_auto_flow": null,
      "grid_auto_rows": null,
      "grid_column": null,
      "grid_gap": null,
      "grid_row": null,
      "grid_template_areas": null,
      "grid_template_columns": null,
      "grid_template_rows": null,
      "height": null,
      "justify_content": null,
      "justify_items": null,
      "left": null,
      "margin": null,
      "max_height": null,
      "max_width": null,
      "min_height": null,
      "min_width": null,
      "object_fit": null,
      "object_position": null,
      "order": null,
      "overflow": null,
      "overflow_x": null,
      "overflow_y": null,
      "padding": null,
      "right": null,
      "top": null,
      "visibility": null,
      "width": null
     }
    },
    "b07f70c2f1e4473bb8a90fa65d281183": {
     "model_module": "@jupyter-widgets/controls",
     "model_name": "DescriptionStyleModel",
     "state": {
      "_model_module": "@jupyter-widgets/controls",
      "_model_module_version": "1.5.0",
      "_model_name": "DescriptionStyleModel",
      "_view_count": null,
      "_view_module": "@jupyter-widgets/base",
      "_view_module_version": "1.2.0",
      "_view_name": "StyleView",
      "description_width": ""
     }
    },
    "b5e15dfc072a46ad9367eaafa17f6313": {
     "model_module": "@jupyter-widgets/base",
     "model_name": "LayoutModel",
     "state": {
      "_model_module": "@jupyter-widgets/base",
      "_model_module_version": "1.2.0",
      "_model_name": "LayoutModel",
      "_view_count": null,
      "_view_module": "@jupyter-widgets/base",
      "_view_module_version": "1.2.0",
      "_view_name": "LayoutView",
      "align_content": null,
      "align_items": null,
      "align_self": null,
      "border": null,
      "bottom": null,
      "display": null,
      "flex": null,
      "flex_flow": null,
      "grid_area": null,
      "grid_auto_columns": null,
      "grid_auto_flow": null,
      "grid_auto_rows": null,
      "grid_column": null,
      "grid_gap": null,
      "grid_row": null,
      "grid_template_areas": null,
      "grid_template_columns": null,
      "grid_template_rows": null,
      "height": null,
      "justify_content": null,
      "justify_items": null,
      "left": null,
      "margin": null,
      "max_height": null,
      "max_width": null,
      "min_height": null,
      "min_width": null,
      "object_fit": null,
      "object_position": null,
      "order": null,
      "overflow": null,
      "overflow_x": null,
      "overflow_y": null,
      "padding": null,
      "right": null,
      "top": null,
      "visibility": null,
      "width": null
     }
    },
    "b96064f9c88b4d5fb605842e22ee5ec8": {
     "model_module": "@jupyter-widgets/controls",
     "model_name": "HTMLModel",
     "state": {
      "_dom_classes": [],
      "_model_module": "@jupyter-widgets/controls",
      "_model_module_version": "1.5.0",
      "_model_name": "HTMLModel",
      "_view_count": null,
      "_view_module": "@jupyter-widgets/controls",
      "_view_module_version": "1.5.0",
      "_view_name": "HTMLView",
      "description": "",
      "description_tooltip": null,
      "layout": "IPY_MODEL_0bca7a6b07ac4b7f9980679b06dcb798",
      "placeholder": "​",
      "style": "IPY_MODEL_745bdbc2dd454163bc3de08b80a19806",
      "value": " 1.12G/1.12G [00:19&lt;00:00, 56.5MB/s]"
     }
    },
    "ba89918f181649f2bd10ce5c6f1e6d48": {
     "model_module": "@jupyter-widgets/controls",
     "model_name": "HBoxModel",
     "state": {
      "_dom_classes": [],
      "_model_module": "@jupyter-widgets/controls",
      "_model_module_version": "1.5.0",
      "_model_name": "HBoxModel",
      "_view_count": null,
      "_view_module": "@jupyter-widgets/controls",
      "_view_module_version": "1.5.0",
      "_view_name": "HBoxView",
      "box_style": "",
      "children": [
       "IPY_MODEL_3753df9760b643dba4e0aa54313b1689",
       "IPY_MODEL_ff08b72911f14f77a8c51fbf0287ef15"
      ],
      "layout": "IPY_MODEL_d79b07b8495c416c83cbfdfffb3d8e1c"
     }
    },
    "c69e9514345944a18780f74fd55cc97f": {
     "model_module": "@jupyter-widgets/controls",
     "model_name": "HBoxModel",
     "state": {
      "_dom_classes": [],
      "_model_module": "@jupyter-widgets/controls",
      "_model_module_version": "1.5.0",
      "_model_name": "HBoxModel",
      "_view_count": null,
      "_view_module": "@jupyter-widgets/controls",
      "_view_module_version": "1.5.0",
      "_view_name": "HBoxView",
      "box_style": "",
      "children": [
       "IPY_MODEL_55513c30e3194e5b8b98793776098b14",
       "IPY_MODEL_b96064f9c88b4d5fb605842e22ee5ec8"
      ],
      "layout": "IPY_MODEL_392d1b126ea549fea9b77e317929b5c9"
     }
    },
    "d79b07b8495c416c83cbfdfffb3d8e1c": {
     "model_module": "@jupyter-widgets/base",
     "model_name": "LayoutModel",
     "state": {
      "_model_module": "@jupyter-widgets/base",
      "_model_module_version": "1.2.0",
      "_model_name": "LayoutModel",
      "_view_count": null,
      "_view_module": "@jupyter-widgets/base",
      "_view_module_version": "1.2.0",
      "_view_name": "LayoutView",
      "align_content": null,
      "align_items": null,
      "align_self": null,
      "border": null,
      "bottom": null,
      "display": null,
      "flex": null,
      "flex_flow": null,
      "grid_area": null,
      "grid_auto_columns": null,
      "grid_auto_flow": null,
      "grid_auto_rows": null,
      "grid_column": null,
      "grid_gap": null,
      "grid_row": null,
      "grid_template_areas": null,
      "grid_template_columns": null,
      "grid_template_rows": null,
      "height": null,
      "justify_content": null,
      "justify_items": null,
      "left": null,
      "margin": null,
      "max_height": null,
      "max_width": null,
      "min_height": null,
      "min_width": null,
      "object_fit": null,
      "object_position": null,
      "order": null,
      "overflow": null,
      "overflow_x": null,
      "overflow_y": null,
      "padding": null,
      "right": null,
      "top": null,
      "visibility": null,
      "width": null
     }
    },
    "ff08b72911f14f77a8c51fbf0287ef15": {
     "model_module": "@jupyter-widgets/controls",
     "model_name": "HTMLModel",
     "state": {
      "_dom_classes": [],
      "_model_module": "@jupyter-widgets/controls",
      "_model_module_version": "1.5.0",
      "_model_name": "HTMLModel",
      "_view_count": null,
      "_view_module": "@jupyter-widgets/controls",
      "_view_module_version": "1.5.0",
      "_view_name": "HTMLView",
      "description": "",
      "description_tooltip": null,
      "layout": "IPY_MODEL_b5e15dfc072a46ad9367eaafa17f6313",
      "placeholder": "​",
      "style": "IPY_MODEL_b07f70c2f1e4473bb8a90fa65d281183",
      "value": " 5.07M/5.07M [00:02&lt;00:00, 2.26MB/s]"
     }
    }
   }
  }
 },
 "nbformat": 4,
 "nbformat_minor": 1
}
